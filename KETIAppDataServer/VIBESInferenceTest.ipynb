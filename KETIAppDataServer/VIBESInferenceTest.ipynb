{
 "cells": [
  {
   "cell_type": "code",
   "execution_count": 1,
   "id": "fd139fca",
   "metadata": {},
   "outputs": [],
   "source": [
    "import sys, os\n",
    "import pandas as pd\n",
    "import numpy as np\n",
    "import matplotlib.pyplot as plt\n",
    "import datetime\n",
    "sys.path.append(\"../../../\")\n",
    "sys.path.append(\"../..\")"
   ]
  },
  {
   "cell_type": "code",
   "execution_count": 7,
   "id": "73c9c88b",
   "metadata": {},
   "outputs": [],
   "source": [
    "params =  {\n",
    "            'data_value':[[212.71666667],\n",
    "       [212.75      ],\n",
    "       [213.        ],\n",
    "       [213.11666667],\n",
    "       [213.58333333],\n",
    "       [213.71666667],\n",
    "       [213.53333333],\n",
    "       [213.05      ],\n",
    "       [213.16666667],\n",
    "       [212.96666667],\n",
    "       [213.        ],\n",
    "       [213.        ],\n",
    "       [213.        ],\n",
    "       [213.        ],\n",
    "       [213.        ],\n",
    "       [213.        ],\n",
    "       [213.        ],\n",
    "       [213.        ],\n",
    "       [212.58333333],\n",
    "       [212.18333333],\n",
    "       [212.        ],\n",
    "       [212.        ],\n",
    "       [212.03333333],\n",
    "       [212.        ]],\n",
    "            'clean_param' : 'Clean',\n",
    "            'scaler_param' : 'scale',\n",
    "            'scale_method' : 'minmax',\n",
    "            'model_method' : 'gru',\n",
    "            'integrationFreq_min' : 60,\n",
    "            'feature_col_list' : ['O2/value'],\n",
    "            'target_col' : 'O2/value',\n",
    "            'dataInfo': [['farm_swine_air', 'sadle'], ['farm_outdoor_weather_clean', 'gunwi']],\n",
    "            'future_step' : 1,\n",
    "            'past_step' : 24\n",
    "        }"
   ]
  },
  {
   "cell_type": "code",
   "execution_count": 8,
   "id": "82632833",
   "metadata": {},
   "outputs": [],
   "source": [
    "aa = params['feature_col_list']"
   ]
  },
  {
   "cell_type": "code",
   "execution_count": 9,
   "id": "3f231afa",
   "metadata": {},
   "outputs": [
    {
     "data": {
      "text/plain": [
       "list"
      ]
     },
     "execution_count": 9,
     "metadata": {},
     "output_type": "execute_result"
    }
   ],
   "source": [
    "(type(aa))"
   ]
  },
  {
   "cell_type": "code",
   "execution_count": 10,
   "id": "67b86925",
   "metadata": {},
   "outputs": [],
   "source": [
    "from dataModelInference import dataInference"
   ]
  },
  {
   "cell_type": "code",
   "execution_count": 11,
   "id": "fe0df89b",
   "metadata": {
    "scrolled": false
   },
   "outputs": [
    {
     "name": "stdout",
     "output_type": "stream",
     "text": [
      "0eb0cd8eb369a5e1ff18b3933f059fb6\n",
      "Load scaler File\n",
      "    O2/value\n",
      "0   0.893822\n",
      "1   0.897683\n",
      "2   0.926641\n",
      "3   0.940154\n",
      "4   0.994208\n",
      "5   1.009653\n",
      "6   0.988417\n",
      "7   0.932432\n",
      "8   0.945946\n",
      "9   0.922780\n",
      "10  0.926641\n",
      "11  0.926641\n",
      "12  0.926641\n",
      "13  0.926641\n",
      "14  0.926641\n",
      "15  0.926641\n",
      "16  0.926641\n",
      "17  0.926641\n",
      "18  0.878378\n",
      "19  0.832046\n",
      "20  0.810811\n",
      "21  0.810811\n",
      "22  0.814672\n",
      "23  0.810811\n",
      "tensor([[[0.8938],\n",
      "         [0.8977],\n",
      "         [0.9266],\n",
      "         [0.9402],\n",
      "         [0.9942],\n",
      "         [1.0097],\n",
      "         [0.9884],\n",
      "         [0.9324],\n",
      "         [0.9459],\n",
      "         [0.9228],\n",
      "         [0.9266],\n",
      "         [0.9266],\n",
      "         [0.9266],\n",
      "         [0.9266],\n",
      "         [0.9266],\n",
      "         [0.9266],\n",
      "         [0.9266],\n",
      "         [0.9266],\n",
      "         [0.8784],\n",
      "         [0.8320],\n",
      "         [0.8108],\n",
      "         [0.8108],\n",
      "         [0.8147],\n",
      "         [0.8108]]])\n",
      "/home/leezy/CLUST_KETI/KETIAppDataServer/model_Inference/scaler/0eb0cd8eb369a5e1ff18b3933f059fb6/Clean/minmax/7a3e7ed0d04554f0785eb9da31aa389a/scaler.pkl\n",
      "Load scaler File\n"
     ]
    }
   ],
   "source": [
    "test = dataInference(params)"
   ]
  },
  {
   "cell_type": "code",
   "execution_count": 12,
   "id": "75fcfbff",
   "metadata": {},
   "outputs": [
    {
     "data": {
      "text/plain": [
       "210.9468231201172"
      ]
     },
     "execution_count": 12,
     "metadata": {},
     "output_type": "execute_result"
    }
   ],
   "source": [
    "test"
   ]
  },
  {
   "cell_type": "code",
   "execution_count": null,
   "id": "b274795f",
   "metadata": {},
   "outputs": [],
   "source": []
  }
 ],
 "metadata": {
  "kernelspec": {
   "display_name": "Python 3 (ipykernel)",
   "language": "python",
   "name": "python3"
  },
  "language_info": {
   "codemirror_mode": {
    "name": "ipython",
    "version": 3
   },
   "file_extension": ".py",
   "mimetype": "text/x-python",
   "name": "python",
   "nbconvert_exporter": "python",
   "pygments_lexer": "ipython3",
   "version": "3.8.13"
  }
 },
 "nbformat": 4,
 "nbformat_minor": 5
}
